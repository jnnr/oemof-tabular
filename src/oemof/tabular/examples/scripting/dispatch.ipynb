{
 "cells": [
  {
   "cell_type": "markdown",
   "metadata": {},
   "source": [
    "# Minimal Dispatch Example with oemof-tabular\n",
    "\n",
    "The example models a simple electricity system as a 1-node-model the following nodes (buses and components):\n",
    "\n",
    "* Bus \n",
    "* Volatile\n",
    "* Storage \n",
    "* Dispatchable\n",
    "* Load\n",
    "\n",
    "In addition we will use a *excess* component for times of over-supply.\n",
    "\n",
    "## Mathematical Formulation\n",
    "\n",
    "Decision variable(s): $x \\geq 0 $, (exogenous) parameter(s) $c$\n",
    "\n",
    "#### Load constraint \n",
    "\n",
    "$$ x_{n,l}(t) = c^{load}_{l}(t) \\qquad \\forall t \\in T$$\n",
    "\n",
    "#### Dispatchable Generator constraint\n",
    "\n",
    "$$x_{g,n}(t) \\leq c^{max}_{g} \\qquad \\forall t \\in T$$\n",
    "\n",
    "#### Volatile Generator constraint \n",
    "\n",
    "$$x_{v,n}(t) = c^{max}_{v}(t) \\qquad \\forall t \\in T$$\n",
    "\n",
    "#### Storage constraints \n",
    "\n",
    "$$ x^{level}_{s}(t) = x^{level}_{s}(t) + x^{p}_{b, s} - x^{p}_{s, b}(t) \\qquad \\forall t \\in T \\ \\{0, t_e\\}$$\n",
    "\n",
    "$$ x^{level}_s(t) \\leq c_s^{max,level}$$ \n",
    "\n",
    "$$ x^{level}_s(1) = x_s^{level}(t_{e}) = 0.5 \\cdot c_s^{max,level}$$\n",
    "\n",
    "#### Balance \n",
    "\n",
    "With the set of all Hub $H$: \n",
    "\n",
    "$$\\sum_i x_{i, h}(t) - \\sum_o x_{h, o}(t) - x^{excess}_h(t) = 0 \\qquad \\forall h \\in H$$\n",
    "\n",
    "#### Objective function\n",
    "\n",
    "$$ \\text{min:} \\sum_t c^{cost}_g \\cdot x_{g,h}(t)$$\n"
   ]
  },
  {
   "cell_type": "markdown",
   "metadata": {},
   "source": [
    "## Python Imports\n",
    "\n",
    "Imports of necessary python packages"
   ]
  },
  {
   "cell_type": "code",
   "execution_count": null,
   "metadata": {},
   "outputs": [],
   "source": [
    "import os\n",
    "import pkg_resources as pkg\n",
    "import pandas as pd \n",
    "\n",
    "from oemof.solph import EnergySystem, Model, Bus\n",
    "import oemof.tabular.tools.postprocessing as pp\n",
    "import oemof.tabular.facades as fc"
   ]
  },
  {
   "cell_type": "markdown",
   "metadata": {},
   "source": [
    "## Creating and setting the datapaths"
   ]
  },
  {
   "cell_type": "markdown",
   "metadata": {},
   "source": [
    "Setting the datapath for raw-data and results"
   ]
  },
  {
   "cell_type": "code",
   "execution_count": null,
   "metadata": {},
   "outputs": [],
   "source": [
    "# datapath for input data from the oemof tabular pacakge\n",
    "datapath = pkg.resource_filename(\"oemof.tabular\", \"examples/data/data.xls\")\n",
    "\n",
    "# results path for output\n",
    "results_path = os.path.join(\n",
    "    os.path.expanduser(\"~\"), \"oemof-results\", \"dispatch\", \"output\"\n",
    ")\n",
    "\n",
    "if not os.path.exists(results_path):\n",
    "    os.makedirs(results_path)"
   ]
  },
  {
   "cell_type": "markdown",
   "metadata": {},
   "source": [
    "Reading the prepared input data"
   ]
  },
  {
   "cell_type": "code",
   "execution_count": null,
   "metadata": {},
   "outputs": [],
   "source": [
    "timeseries = pd.read_excel(\n",
    "    datapath, sheet_name=\"timeseries\", index_col=[0], parse_dates=True\n",
    ")\n",
    "timeseries.index.freq = \"1H\""
   ]
  },
  {
   "cell_type": "markdown",
   "metadata": {},
   "source": [
    "## Creating the model"
   ]
  },
  {
   "cell_type": "code",
   "execution_count": null,
   "metadata": {},
   "outputs": [],
   "source": [
    "es = EnergySystem(timeindex=timeseries.index)\n",
    "\n",
    "bus = Bus(label=\"DE\")\n",
    "es.add(bus)\n",
    "\n",
    "es.add(\n",
    "    fc.Dispatchable(\n",
    "        label=\"ccgt\",\n",
    "        bus=bus,\n",
    "        carrier=\"gas\",\n",
    "        tech=\"ccgt\",\n",
    "        capacity=100,\n",
    "        marginal_cost=25,\n",
    "    )\n",
    ")\n",
    "\n",
    "es.add(fc.Load(label=\"load\", bus=bus, amount=500e3, profile=timeseries[\"load\"]))\n",
    "\n",
    "es.add(fc.Excess(label=\"excess\", bus=bus))\n",
    "\n",
    "es.add(\n",
    "    fc.Volatile(\n",
    "        label=\"wind\",\n",
    "        carrier=\"wind\",\n",
    "        tech=\"onshore\",\n",
    "        capacity=150,\n",
    "        bus=bus,\n",
    "        profile=timeseries[\"onshore\"],\n",
    "    )\n",
    ")\n",
    "\n",
    "es.add(\n",
    "    fc.Storage(\n",
    "        label=\"storage\",\n",
    "        bus=bus,\n",
    "        carrier=\"lithium\",\n",
    "        tech=\"battery\",\n",
    "        capacity=20,\n",
    "        marginal_cost=0.0001,\n",
    "        balanced=True,\n",
    "        initial_storage_capacity=0.5,\n",
    "        storage_capacity=100,\n",
    "    )\n",
    ")"
   ]
  },
  {
   "cell_type": "markdown",
   "metadata": {},
   "source": [
    "## Solving the model"
   ]
  },
  {
   "cell_type": "code",
   "execution_count": null,
   "metadata": {},
   "outputs": [],
   "source": [
    "# create model based on energy system and its components\n",
    "m = Model(es)\n",
    "\n",
    "#  solve the model using cbc solver\n",
    "m.solve(\"cbc\")\n",
    "\n",
    "# write results back to the model object\n",
    "m.results = m.results()\n",
    "\n",
    "# writing results with the standard oemof-tabular output formatt\n",
    "pp.write_results(m, results_path)\n",
    "\n",
    "print(\"Optimization done. Results are in {}.\".format(results_path))\n"
   ]
  },
  {
   "cell_type": "markdown",
   "metadata": {},
   "source": [
    "## Plotting the results"
   ]
  },
  {
   "cell_type": "code",
   "execution_count": null,
   "metadata": {},
   "outputs": [],
   "source": [
    "from plotly import offline, plotly\n",
    "from oemof.tabular.tools.plots import hourly_plot\n",
    "offline.init_notebook_mode()\n",
    "\n",
    "name = \"dispatch\"\n",
    "\n",
    "# results path for output\n",
    "results_path = os.path.join(os.path.expanduser(\"~\"), \"oemof-results\", name, \"output\")\n",
    "\n",
    "offline.plot(\n",
    "    hourly_plot(\n",
    "        name,\n",
    "        \"DE\",\n",
    "        os.path.join(os.path.expanduser(\"~\"), \"oemof-results\"),\n",
    "        plot_filling_levels=True,\n",
    "    ),\n",
    "    filename=os.path.join(results_path, \"hourly-plot.html\"),\n",
    ")"
   ]
  },
  {
   "cell_type": "code",
   "execution_count": null,
   "metadata": {},
   "outputs": [],
   "source": []
  }
 ],
 "metadata": {
  "kernelspec": {
   "display_name": "Python 3",
   "language": "python",
   "name": "python3"
  },
  "language_info": {
   "codemirror_mode": {
    "name": "ipython",
    "version": 3
   },
   "file_extension": ".py",
   "mimetype": "text/x-python",
   "name": "python",
   "nbconvert_exporter": "python",
   "pygments_lexer": "ipython3",
   "version": "3.6.7"
  }
 },
 "nbformat": 4,
 "nbformat_minor": 2
}
