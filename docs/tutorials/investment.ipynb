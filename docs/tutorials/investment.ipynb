{
 "cells": [
  {
   "cell_type": "markdown",
   "metadata": {},
   "source": [
    "# Minimal 1-Node Investment Example\n",
    "\n",
    "The example models a simple electricity system as a 1-node-model the following nodes (buses and components):\n",
    "\n",
    "![](dispatch.png?=20)\n",
    "\n",
    "\n",
    "The model will optimize the capacity of all supply technologies. "
   ]
  },
  {
   "cell_type": "markdown",
   "metadata": {},
   "source": [
    "## Python Imports\n",
    "\n",
    "Imports of necessary python packages"
   ]
  },
  {
   "cell_type": "code",
   "execution_count": 1,
   "metadata": {},
   "outputs": [],
   "source": [
    "import os\n",
    "import pkg_resources as pkg\n",
    "import pandas as pd \n",
    "\n",
    "from oemof.solph import EnergySystem, Model, Bus\n",
    "from oemof.tools.economics import annuity as annuity\n",
    "import oemof.tabular.tools.postprocessing as pp\n",
    "import oemof.tabular.facades as fc"
   ]
  },
  {
   "cell_type": "markdown",
   "metadata": {},
   "source": [
    "## Creating and Setting the Datapaths"
   ]
  },
  {
   "cell_type": "markdown",
   "metadata": {},
   "source": [
    "Setting the datapath for raw-data and results. Data handling looks more complex than it is. You can easily adapt this to a simple `pd.read_excel(filepath,...)` in the next block if your file is located somewhere else. Otherwise we will use data from the oemof tabular repository. \n",
    "\n",
    "In addition a results directory will be created in `home/user/oemof-results/dispatch/output`. "
   ]
  },
  {
   "cell_type": "code",
   "execution_count": 2,
   "metadata": {},
   "outputs": [
    {
     "data": {
      "text/plain": [
       "'/home/admin/projects/oemof-tabular/data/data.xls'"
      ]
     },
     "execution_count": 2,
     "metadata": {},
     "output_type": "execute_result"
    }
   ],
   "source": [
    "# datapath for input data from the oemof tabular pacakge\n",
    "datapath = os.path.join(\n",
    "    pkg.resource_filename(\"oemof.tabular\", \"\").replace('src/oemof/tabular', \"\"), \n",
    "    \"data/data.xls\")\n",
    "\n",
    "# results path for output\n",
    "results_path = os.path.join(\n",
    "    os.path.expanduser(\"~\"), \n",
    "    \"oemof-results\", \n",
    "    \"investment\", \n",
    "    \"output\"\n",
    ")\n",
    "\n",
    "if not os.path.exists(results_path):\n",
    "    os.makedirs(results_path)\n",
    "datapath"
   ]
  },
  {
   "cell_type": "markdown",
   "metadata": {},
   "source": [
    "Next we will read the required input data. The timeseries index will be used for the `EnergySystem` object below. \n",
    "All generator data etc. will also be loaded. "
   ]
  },
  {
   "cell_type": "code",
   "execution_count": 3,
   "metadata": {},
   "outputs": [],
   "source": [
    "timeseries = pd.read_excel(\n",
    "    datapath, sheet_name=\"timeseries\", index_col=[0], parse_dates=True\n",
    ")\n",
    "timeseries.index.freq = \"1H\"\n",
    "\n",
    "generator = pd.read_excel(\n",
    "    datapath, sheet_name=\"generator\", index_col=0\n",
    ")\n",
    "\n",
    "storage = pd.read_excel(\n",
    "    datapath, sheet_name=\"storage\", index_col=0\n",
    ")\n",
    "\n",
    "carrier = pd.read_excel(\n",
    "    datapath, sheet_name=\"carrier\", index_col=0\n",
    ")\n",
    "\n",
    "technology = pd.read_excel(\n",
    "    datapath, sheet_name=\"technology-data\", index_col=0\n",
    ")\n",
    "\n",
    "load = pd.read_excel(\n",
    "    datapath, sheet_name=\"load\", index_col=0\n",
    ")"
   ]
  },
  {
   "cell_type": "code",
   "execution_count": 4,
   "metadata": {},
   "outputs": [
    {
     "data": {
      "text/html": [
       "<div>\n",
       "<style scoped>\n",
       "    .dataframe tbody tr th:only-of-type {\n",
       "        vertical-align: middle;\n",
       "    }\n",
       "\n",
       "    .dataframe tbody tr th {\n",
       "        vertical-align: top;\n",
       "    }\n",
       "\n",
       "    .dataframe thead th {\n",
       "        text-align: right;\n",
       "    }\n",
       "</style>\n",
       "<table border=\"1\" class=\"dataframe\">\n",
       "  <thead>\n",
       "    <tr style=\"text-align: right;\">\n",
       "      <th></th>\n",
       "      <th>bus</th>\n",
       "      <th>amount</th>\n",
       "      <th>profile</th>\n",
       "    </tr>\n",
       "    <tr>\n",
       "      <th>name</th>\n",
       "      <th></th>\n",
       "      <th></th>\n",
       "      <th></th>\n",
       "    </tr>\n",
       "  </thead>\n",
       "  <tbody>\n",
       "    <tr>\n",
       "      <th>KH-load</th>\n",
       "      <td>KH-electricity</td>\n",
       "      <td>100000</td>\n",
       "      <td>KH-load-profile</td>\n",
       "    </tr>\n",
       "  </tbody>\n",
       "</table>\n",
       "</div>"
      ],
      "text/plain": [
       "                    bus  amount          profile\n",
       "name                                            \n",
       "KH-load  KH-electricity  100000  KH-load-profile"
      ]
     },
     "execution_count": 4,
     "metadata": {},
     "output_type": "execute_result"
    }
   ],
   "source": [
    "load"
   ]
  },
  {
   "cell_type": "markdown",
   "metadata": {},
   "source": [
    "## Creating the EnergySystem and its Nodes\n",
    "\n",
    "We are starting by creating a `EnergySystem` object which will hold all information (nodes, etc.) of hour energy system that we will add below. This is just the standard way of using the `oemof.solph` library for your modelling."
   ]
  },
  {
   "cell_type": "code",
   "execution_count": null,
   "metadata": {},
   "outputs": [],
   "source": [
    "es = EnergySystem(timeindex=timeseries.index)"
   ]
  },
  {
   "cell_type": "markdown",
   "metadata": {},
   "source": [
    "### Add Bus\n",
    "\n",
    "Before we add any components we will create all bus objects for our model and add it to the energy system object."
   ]
  },
  {
   "cell_type": "code",
   "execution_count": null,
   "metadata": {},
   "outputs": [],
   "source": [
    "buses = {b: Bus(label=b) for b in set(generator.bus)}\n",
    "es.add(*buses.values())"
   ]
  },
  {
   "cell_type": "markdown",
   "metadata": {},
   "source": [
    "#### Bus Constraints \n",
    "\n",
    "With the set of all Buses $B$ all inputs $x^{flow}_{i(b),b}$ to a bus $b$ must equal all its outputs $x^{flow}_{b,o(b)}$\n",
    "\n",
    "$$\\sum_i x^{flow}_{i(b), b}(t) - \\sum_o x^{flow}_{b, o(b)}(t) = 0 \\qquad \\forall t \\in T, \\forall b \\in B$$\n",
    "\n",
    "This equation will be build once the complete energy system is setup with its component. Every time a `Component` is created, the connected bus inputs/outputs will be updated. By this update every bus has all required information of its inputs and outputs available to construct the constraints. \n"
   ]
  },
  {
   "cell_type": "markdown",
   "metadata": {},
   "source": [
    "### Add Load\n"
   ]
  },
  {
   "cell_type": "code",
   "execution_count": null,
   "metadata": {},
   "outputs": [],
   "source": []
  },
  {
   "cell_type": "code",
   "execution_count": null,
   "metadata": {},
   "outputs": [],
   "source": [
    "for name, l in load.iterrows(): \n",
    "    es.add(\n",
    "        fc.Load(\n",
    "            label=name,       \n",
    "            bus=buses[l.bus], # reference the bus in the buses dictionary\n",
    "            amount=l.amount,  # amount column\n",
    "            profile=timeseries[l.profile])\n",
    "    )\n"
   ]
  },
  {
   "cell_type": "markdown",
   "metadata": {},
   "source": [
    "#### Load Constraint \n",
    "\n",
    "For the set of all Load denoted with $l \\in L$ the load $x_l$ at timestep t equals the exogenously defined  profile value $c^{profile}_l$ multiplied by the amount of this load $c^{amount}_l$\n",
    "\n",
    "$$ x^{flow}_{l}(t) = c^{profile}_{l}(t) \\cdot c^{amount}_{l} \\qquad \\forall t \\in T, \\forall l \\in L$$"
   ]
  },
  {
   "cell_type": "code",
   "execution_count": null,
   "metadata": {},
   "outputs": [],
   "source": []
  },
  {
   "cell_type": "markdown",
   "metadata": {},
   "source": [
    "### Add Generators"
   ]
  },
  {
   "cell_type": "code",
   "execution_count": null,
   "metadata": {},
   "outputs": [],
   "source": [
    "for name, g in generator.iterrows(): \n",
    "    if g.profile not in timeseries: \n",
    "        timeseries[g.profile] = 0\n",
    "    es.add(\n",
    "        fc.Generator(\n",
    "            label=name,\n",
    "            bus=buses[g.bus],\n",
    "            carrier=g.carrier,\n",
    "            tech=g.tech,\n",
    "            marginal_cost=g.marginal_cost,\n",
    "            capacity_cost=annuity(\n",
    "                technology.at['capex', (\"-\").join([g.carrier, g.tech])], \n",
    "                technology.at['lifetime', (\"-\").join([g.carrier, g.tech])], \n",
    "                0.07),\n",
    "            output_parameters={\n",
    "               'fixed': not bool(g.dispatchable),\n",
    "            },\n",
    "            profile=timeseries[g.profile]\n",
    "        )\n",
    "    )\n",
    "    "
   ]
  },
  {
   "cell_type": "code",
   "execution_count": null,
   "metadata": {},
   "outputs": [],
   "source": []
  },
  {
   "cell_type": "markdown",
   "metadata": {},
   "source": [
    "#### Dispatchable Generator Constraint\n",
    "\n",
    "A `Generator` component can be used to model all types of dispatchble units in a energy system. This can include diesel generators oder coal fired power plants but also hot water boilers for heat. Every generator **must** be connected to an `Bus` object. \n",
    "\n",
    "This basic mathematical model for the component with the set of all dispatchable generators being $d \\in D$ looks as follows:\n",
    "\n",
    "$$x^{flow}_{d}(t) \\leq x^{capacity}_{d} \\qquad \\forall t \\in T,  \\forall d \\in D$$\n",
    "\n",
    "Meaning, the production of the generator $x^{flow}$ must be less than its maximum capacity $c^{max}$ in every timestep. "
   ]
  },
  {
   "cell_type": "markdown",
   "metadata": {},
   "source": [
    "#### Volatile Generator Constraint \n",
    "\n",
    "Using the `Generator` component with `output_parameters={\"fixed\": True}` is very similar to the Dispatchable component. However, in this case the flow of the volatile components denoted with $v \\in V$  will be fixed to a specific value.\n",
    "\n",
    "$$ x^{flow}_{v}(t) = c^{profile}_{v}(t) \\cdot x^{capacity}_{v} \\qquad \\forall t \\in T, \\forall v \\in V$$\n",
    "\n",
    "Alternatively you can use the `Volatile` component which automatically enforced the fixed behaviour. "
   ]
  },
  {
   "cell_type": "markdown",
   "metadata": {},
   "source": [
    "### Add Storage"
   ]
  },
  {
   "cell_type": "code",
   "execution_count": null,
   "metadata": {},
   "outputs": [
    {
     "data": {
      "text/plain": [
       "'\\nes.add(\\n    fc.Storage(\\n        label=\"storage\",\\n        bus=myamar,\\n        carrier=\"lithium\",\\n        tech=\"battery\",\\n        capacity=20,\\n        marginal_cost=0.0001,\\n        balanced=True,\\n        initial_storage_capacity=0.5,\\n        storage_capacity=100,\\n    )\\n)\\nes.add(fc.Excess(label=\"excess\", bus=myamar))\\n'"
      ]
     },
     "execution_count": 9,
     "metadata": {},
     "output_type": "execute_result"
    }
   ],
   "source": [
    "\"\"\"\n",
    "es.add(\n",
    "    fc.Storage(\n",
    "        label=\"storage\",\n",
    "        bus=myamar,\n",
    "        carrier=\"lithium\",\n",
    "        tech=\"battery\",\n",
    "        capacity=20,\n",
    "        marginal_cost=0.0001,\n",
    "        balanced=True,\n",
    "        initial_storage_capacity=0.5,\n",
    "        storage_capacity=100,\n",
    "    )\n",
    ")\n",
    "es.add(fc.Excess(label=\"excess\", bus=myamar))\n",
    "\"\"\""
   ]
  },
  {
   "cell_type": "markdown",
   "metadata": {},
   "source": [
    "#### Storage Constraints \n",
    "\n",
    "The mathematical representation of the storage for all storages $s \\in S$ will include the flow into the storage, out of the storage and a storage level. The defaul efficiency for input/output is 1. Note that this is is included during charge and discharge. If you want to set the round trip efficiency you need to do for example: $\\eta = \\sqrt{\\eta^{roundtrip}}$\n",
    "\n",
    "Intertemporal energy balance of the storage:\n",
    "\n",
    "$$ x^{level}_{s}(t) = \\eta^{loss} x^{level}_{s}(t) + \\eta x^{flow}_{s, in} - \\eta x^{flow}_{s, out}(t) \\qquad \\forall t \\in T,  \\forall s \\in S$$ \n",
    "\n",
    "Bounds of the storage level variable $x^{level}_s(t)$:\n",
    "\n",
    "$$ x^{level}_s(t) \\leq c_s^{max,level} \\qquad \\forall t \\in T,  \\forall s \\in S$$\n",
    "\n",
    "\n",
    "$$ x^{level}_s(1) = x_s^{level}(t_{e}) = 0.5 \\cdot c_s^{max,level} \\qquad \\forall t \\in T,  \\forall s \\in S$$ \n",
    "\n",
    "Of course, in addition the inflow/outflow of the storage also needs to be within the limit of the minimum and maximum power. \n",
    "\n",
    "$$ -c_s^{capacity} \\leq x^{flow}_s(t) \\leq c_s^{capacity} \\qquad \\forall t \\in T, \\forall s \\in S$$ \n"
   ]
  },
  {
   "cell_type": "markdown",
   "metadata": {},
   "source": [
    "### Objective Function \n",
    "\n",
    "The objective function is created from all instantiated objects. It will use all operating costs (i.e. `marginal_cost` argument) and if set all investment costs (i.e. `capacity_cost` argument)\n",
    "\n",
    "$$ \\text{min:} \\sum_g \\sum_t \\overbrace{c^{marginal\\_cost}_g \\cdot x^{flow}_{g}(t)}^{\\text{operating cost}} \\\\ \n",
    "\\sum_g \\sum_t \\overbrace{c^{capacity\\_cost}_g \\cdot x^{capacity}_{g}(t)}^{\\text{investment cost}} $$"
   ]
  },
  {
   "cell_type": "markdown",
   "metadata": {},
   "source": [
    "## Creating the Mathematical Model"
   ]
  },
  {
   "cell_type": "code",
   "execution_count": null,
   "metadata": {},
   "outputs": [],
   "source": [
    "# create model based on energy system and its components\n",
    "m = Model(es)\n",
    "\n",
    "# inspect objective function\n",
    "# m.objective.pprint()"
   ]
  },
  {
   "cell_type": "markdown",
   "metadata": {},
   "source": [
    "## Solving the Model and Writing Results"
   ]
  },
  {
   "cell_type": "code",
   "execution_count": null,
   "metadata": {},
   "outputs": [
    {
     "name": "stdout",
     "output_type": "stream",
     "text": [
      "> /home/admin/projects/oemof-tabular/src/oemof/tabular/tools/postprocessing.py(123)supply_results()\n",
      "-> selection = selection.loc[\n",
      "(Pdb) selection\n",
      "from                          KH-coal-st   KH-hydro-ror    KH-solar-pv  \\\n",
      "to                        KH-electricity KH-electricity KH-electricity   \n",
      "type                                flow           flow           flow   \n",
      "timeindex                                                                \n",
      "2030-01-01 00:00:00+00:00       5.268469       3.123848       0.000000   \n",
      "2030-01-01 01:00:00+00:00       4.781602       3.122354       0.000000   \n",
      "2030-01-01 02:00:00+00:00       4.361871       3.120854       0.000000   \n",
      "2030-01-01 03:00:00+00:00       4.075530       3.119346       0.000000   \n",
      "2030-01-01 04:00:00+00:00       3.713992       3.117831       0.000000   \n",
      "2030-01-01 05:00:00+00:00       3.106873       3.116309       0.000000   \n",
      "2030-01-01 06:00:00+00:00       3.110577       3.114780       0.000000   \n",
      "2030-01-01 07:00:00+00:00       3.249792       3.113244       0.021142   \n",
      "2030-01-01 08:00:00+00:00       3.565763       3.111702       0.221987   \n",
      "2030-01-01 09:00:00+00:00       3.901403       3.110153       0.517970   \n",
      "2030-01-01 10:00:00+00:00       4.357748       3.108598       0.750528   \n",
      "2030-01-01 11:00:00+00:00       4.570581       3.107036       0.813953   \n",
      "2030-01-01 12:00:00+00:00       4.630209       3.105468       0.681818   \n",
      "2030-01-01 13:00:00+00:00       4.835349       3.103894       0.428118   \n",
      "2030-01-01 14:00:00+00:00       5.170071       3.102313       0.121564   \n",
      "2030-01-01 15:00:00+00:00       5.679599       3.100727       0.000000   \n",
      "2030-01-01 16:00:00+00:00       6.613530       3.099135       0.000000   \n",
      "2030-01-01 17:00:00+00:00       6.835956       3.097537       0.000000   \n",
      "2030-01-01 18:00:00+00:00       6.711957       3.095933       0.000000   \n",
      "2030-01-01 19:00:00+00:00       6.378050       3.094323       0.000000   \n",
      "2030-01-01 20:00:00+00:00       6.262130       3.092709       0.000000   \n",
      "2030-01-01 21:00:00+00:00       6.391495       3.091088       0.000000   \n",
      "2030-01-01 22:00:00+00:00       5.896309       3.089462       0.000000   \n",
      "2030-01-01 23:00:00+00:00       5.283309       3.087832       0.000000   \n",
      "2030-01-02 00:00:00+00:00       4.817681       3.086196       0.000000   \n",
      "2030-01-02 01:00:00+00:00       4.576205       3.084555       0.000000   \n",
      "2030-01-02 02:00:00+00:00       4.426995       3.082908       0.000000   \n",
      "2030-01-02 03:00:00+00:00       4.387543       3.081257       0.000000   \n",
      "2030-01-02 04:00:00+00:00       4.212466       3.079599       0.000000   \n",
      "2030-01-02 05:00:00+00:00       3.842210       3.077936       0.000000   \n",
      "...                                  ...            ...            ...   \n",
      "2030-12-30 18:00:00+00:00       9.431417       1.583864       0.000000   \n",
      "2030-12-30 19:00:00+00:00       8.740423       1.583768       0.000000   \n",
      "2030-12-30 20:00:00+00:00       8.245050       1.583669       0.000000   \n",
      "2030-12-30 21:00:00+00:00       8.082029       1.583566       0.000000   \n",
      "2030-12-30 22:00:00+00:00       7.367787       1.583459       0.000000   \n",
      "2030-12-30 23:00:00+00:00       6.695807       1.583348       0.000000   \n",
      "2030-12-31 00:00:00+00:00       6.268381       1.583233       0.000000   \n",
      "2030-12-31 01:00:00+00:00       5.994697       1.583113       0.000000   \n",
      "2030-12-31 02:00:00+00:00       5.957601       1.582989       0.000000   \n",
      "2030-12-31 03:00:00+00:00       5.984617       1.582862       0.000000   \n",
      "2030-12-31 04:00:00+00:00       5.917455       1.582732       0.000000   \n",
      "2030-12-31 05:00:00+00:00       5.744789       1.582601       0.000000   \n",
      "2030-12-31 06:00:00+00:00       6.269455       1.582467       0.000000   \n",
      "2030-12-31 07:00:00+00:00       7.001275       1.582333       0.010571   \n",
      "2030-12-31 08:00:00+00:00       7.605782       1.582199       0.121564   \n",
      "2030-12-31 09:00:00+00:00       7.860448       1.582065       0.285412   \n",
      "2030-12-31 10:00:00+00:00       8.099214       1.581932       0.385835   \n",
      "2030-12-31 11:00:00+00:00       8.098251       1.581801       0.401691   \n",
      "2030-12-31 12:00:00+00:00       7.980813       1.581672       0.338266   \n",
      "2030-12-31 13:00:00+00:00       7.946344       1.581546       0.179704   \n",
      "2030-12-31 14:00:00+00:00       8.088748       1.581424       0.031712   \n",
      "2030-12-31 15:00:00+00:00       8.672444       1.581306       0.000000   \n",
      "2030-12-31 16:00:00+00:00       9.157323       1.581192       0.000000   \n",
      "2030-12-31 17:00:00+00:00       9.050847       1.581085       0.000000   \n",
      "2030-12-31 18:00:00+00:00       8.253716       1.580983       0.000000   \n",
      "2030-12-31 19:00:00+00:00       7.356667       1.580888       0.000000   \n",
      "2030-12-31 20:00:00+00:00       7.088729       1.580800       0.000000   \n",
      "2030-12-31 21:00:00+00:00       7.205577       1.580721       0.000000   \n",
      "2030-12-31 22:00:00+00:00       6.774064       1.580650       0.000000   \n",
      "2030-12-31 23:00:00+00:00       6.289144       1.580588       0.000000   \n",
      "\n",
      "from                      KH-wind-onshore     KH-coal-st   KH-hydro-ror  \\\n",
      "to                         KH-electricity KH-electricity KH-electricity   \n",
      "type                                 flow           flow           flow   \n",
      "timeindex                                                                 \n",
      "2030-01-01 00:00:00+00:00        1.138966       5.268469       3.123848   \n",
      "2030-01-01 01:00:00+00:00        1.220366       4.781602       3.122354   \n",
      "2030-01-01 02:00:00+00:00        1.283935       4.361871       3.120854   \n",
      "2030-01-01 03:00:00+00:00        1.360775       4.075530       3.119346   \n",
      "2030-01-01 04:00:00+00:00        1.402880       3.713992       3.117831   \n",
      "2030-01-01 05:00:00+00:00        1.419748       3.106873       3.116309   \n",
      "2030-01-01 06:00:00+00:00        1.421904       3.110577       3.114780   \n",
      "2030-01-01 07:00:00+00:00        1.390761       3.249792       3.113244   \n",
      "2030-01-01 08:00:00+00:00        1.356496       3.565763       3.111702   \n",
      "2030-01-01 09:00:00+00:00        1.289730       3.901403       3.110153   \n",
      "2030-01-01 10:00:00+00:00        1.221795       4.357748       3.108598   \n",
      "2030-01-01 11:00:00+00:00        1.181622       4.570581       3.107036   \n",
      "2030-01-01 12:00:00+00:00        1.127814       4.630209       3.105468   \n",
      "2030-01-01 13:00:00+00:00        1.074402       4.835349       3.103894   \n",
      "2030-01-01 14:00:00+00:00        1.028632       5.170071       3.102313   \n",
      "2030-01-01 15:00:00+00:00        0.969803       5.679599       3.100727   \n",
      "2030-01-01 16:00:00+00:00        0.888718       6.613530       3.099135   \n",
      "2030-01-01 17:00:00+00:00        0.826302       6.835956       3.097537   \n",
      "2030-01-01 18:00:00+00:00        0.782355       6.711957       3.095933   \n",
      "2030-01-01 19:00:00+00:00        0.745152       6.378050       3.094323   \n",
      "2030-01-01 20:00:00+00:00        0.725933       6.262130       3.092709   \n",
      "2030-01-01 21:00:00+00:00        0.720297       6.391495       3.091088   \n",
      "2030-01-01 22:00:00+00:00        0.702479       5.896309       3.089462   \n",
      "2030-01-01 23:00:00+00:00        0.693983       5.283309       3.087832   \n",
      "2030-01-02 00:00:00+00:00        0.699008       4.817681       3.086196   \n",
      "2030-01-02 01:00:00+00:00        0.690689       4.576205       3.084555   \n",
      "2030-01-02 02:00:00+00:00        0.681072       4.426995       3.082908   \n",
      "2030-01-02 03:00:00+00:00        0.659471       4.387543       3.081257   \n",
      "2030-01-02 04:00:00+00:00        0.627259       4.212466       3.079599   \n",
      "2030-01-02 05:00:00+00:00        0.598199       3.842210       3.077936   \n",
      "...                                   ...            ...            ...   \n",
      "2030-12-30 18:00:00+00:00        0.823690       9.431417       1.583864   \n",
      "2030-12-30 19:00:00+00:00        0.724581       8.740423       1.583768   \n",
      "2030-12-30 20:00:00+00:00        0.640242       8.245050       1.583669   \n",
      "2030-12-30 21:00:00+00:00        0.562450       8.082029       1.583566   \n",
      "2030-12-30 22:00:00+00:00        0.496086       7.367787       1.583459   \n",
      "2030-12-30 23:00:00+00:00        0.431607       6.695807       1.583348   \n",
      "2030-12-31 00:00:00+00:00        0.372157       6.268381       1.583233   \n",
      "2030-12-31 01:00:00+00:00        0.322332       5.994697       1.583113   \n",
      "2030-12-31 02:00:00+00:00        0.294372       5.957601       1.582989   \n",
      "2030-12-31 03:00:00+00:00        0.273671       5.984617       1.582862   \n",
      "2030-12-31 04:00:00+00:00        0.260107       5.917455       1.582732   \n",
      "2030-12-31 05:00:00+00:00        0.255929       5.744789       1.582601   \n",
      "2030-12-31 06:00:00+00:00        0.251184       6.269455       1.582467   \n",
      "2030-12-31 07:00:00+00:00        0.253749       7.001275       1.582333   \n",
      "2030-12-31 08:00:00+00:00        0.253090       7.605782       1.582199   \n",
      "2030-12-31 09:00:00+00:00        0.253634       7.860448       1.582065   \n",
      "2030-12-31 10:00:00+00:00        0.280491       8.099214       1.581932   \n",
      "2030-12-31 11:00:00+00:00        0.298112       8.098251       1.581801   \n",
      "2030-12-31 12:00:00+00:00        0.292435       7.980813       1.581672   \n",
      "2030-12-31 13:00:00+00:00        0.274583       7.946344       1.581546   \n",
      "2030-12-31 14:00:00+00:00        0.303394       8.088748       1.581424   \n",
      "2030-12-31 15:00:00+00:00        0.362485       8.672444       1.581306   \n",
      "2030-12-31 16:00:00+00:00        0.387605       9.157323       1.581192   \n",
      "2030-12-31 17:00:00+00:00        0.398276       9.050847       1.581085   \n",
      "2030-12-31 18:00:00+00:00        0.421191       8.253716       1.580983   \n",
      "2030-12-31 19:00:00+00:00        0.425829       7.356667       1.580888   \n",
      "2030-12-31 20:00:00+00:00        0.407146       7.088729       1.580800   \n",
      "2030-12-31 21:00:00+00:00        0.396810       7.205577       1.580721   \n",
      "2030-12-31 22:00:00+00:00        0.406583       6.774064       1.580650   \n",
      "2030-12-31 23:00:00+00:00        0.446446       6.289144       1.580588   \n",
      "\n",
      "from                         KH-solar-pv KH-wind-onshore  \n",
      "to                        KH-electricity  KH-electricity  \n",
      "type                                flow            flow  \n",
      "timeindex                                                 \n",
      "2030-01-01 00:00:00+00:00       0.000000        1.138966  \n",
      "2030-01-01 01:00:00+00:00       0.000000        1.220366  \n",
      "2030-01-01 02:00:00+00:00       0.000000        1.283935  \n",
      "2030-01-01 03:00:00+00:00       0.000000        1.360775  \n",
      "2030-01-01 04:00:00+00:00       0.000000        1.402880  \n",
      "2030-01-01 05:00:00+00:00       0.000000        1.419748  \n",
      "2030-01-01 06:00:00+00:00       0.000000        1.421904  \n",
      "2030-01-01 07:00:00+00:00       0.021142        1.390761  \n",
      "2030-01-01 08:00:00+00:00       0.221987        1.356496  \n",
      "2030-01-01 09:00:00+00:00       0.517970        1.289730  \n",
      "2030-01-01 10:00:00+00:00       0.750528        1.221795  \n",
      "2030-01-01 11:00:00+00:00       0.813953        1.181622  \n",
      "2030-01-01 12:00:00+00:00       0.681818        1.127814  \n",
      "2030-01-01 13:00:00+00:00       0.428118        1.074402  \n",
      "2030-01-01 14:00:00+00:00       0.121564        1.028632  \n",
      "2030-01-01 15:00:00+00:00       0.000000        0.969803  \n",
      "2030-01-01 16:00:00+00:00       0.000000        0.888718  \n",
      "2030-01-01 17:00:00+00:00       0.000000        0.826302  \n",
      "2030-01-01 18:00:00+00:00       0.000000        0.782355  \n",
      "2030-01-01 19:00:00+00:00       0.000000        0.745152  \n",
      "2030-01-01 20:00:00+00:00       0.000000        0.725933  \n",
      "2030-01-01 21:00:00+00:00       0.000000        0.720297  \n",
      "2030-01-01 22:00:00+00:00       0.000000        0.702479  \n",
      "2030-01-01 23:00:00+00:00       0.000000        0.693983  \n",
      "2030-01-02 00:00:00+00:00       0.000000        0.699008  \n",
      "2030-01-02 01:00:00+00:00       0.000000        0.690689  \n",
      "2030-01-02 02:00:00+00:00       0.000000        0.681072  \n",
      "2030-01-02 03:00:00+00:00       0.000000        0.659471  \n",
      "2030-01-02 04:00:00+00:00       0.000000        0.627259  \n",
      "2030-01-02 05:00:00+00:00       0.000000        0.598199  \n",
      "...                                  ...             ...  \n",
      "2030-12-30 18:00:00+00:00       0.000000        0.823690  \n",
      "2030-12-30 19:00:00+00:00       0.000000        0.724581  \n",
      "2030-12-30 20:00:00+00:00       0.000000        0.640242  \n",
      "2030-12-30 21:00:00+00:00       0.000000        0.562450  \n",
      "2030-12-30 22:00:00+00:00       0.000000        0.496086  \n",
      "2030-12-30 23:00:00+00:00       0.000000        0.431607  \n",
      "2030-12-31 00:00:00+00:00       0.000000        0.372157  \n",
      "2030-12-31 01:00:00+00:00       0.000000        0.322332  \n",
      "2030-12-31 02:00:00+00:00       0.000000        0.294372  \n",
      "2030-12-31 03:00:00+00:00       0.000000        0.273671  \n",
      "2030-12-31 04:00:00+00:00       0.000000        0.260107  \n",
      "2030-12-31 05:00:00+00:00       0.000000        0.255929  \n",
      "2030-12-31 06:00:00+00:00       0.000000        0.251184  \n",
      "2030-12-31 07:00:00+00:00       0.010571        0.253749  \n",
      "2030-12-31 08:00:00+00:00       0.121564        0.253090  \n",
      "2030-12-31 09:00:00+00:00       0.285412        0.253634  \n",
      "2030-12-31 10:00:00+00:00       0.385835        0.280491  \n",
      "2030-12-31 11:00:00+00:00       0.401691        0.298112  \n",
      "2030-12-31 12:00:00+00:00       0.338266        0.292435  \n",
      "2030-12-31 13:00:00+00:00       0.179704        0.274583  \n",
      "2030-12-31 14:00:00+00:00       0.031712        0.303394  \n",
      "2030-12-31 15:00:00+00:00       0.000000        0.362485  \n",
      "2030-12-31 16:00:00+00:00       0.000000        0.387605  \n",
      "2030-12-31 17:00:00+00:00       0.000000        0.398276  \n",
      "2030-12-31 18:00:00+00:00       0.000000        0.421191  \n",
      "2030-12-31 19:00:00+00:00       0.000000        0.425829  \n",
      "2030-12-31 20:00:00+00:00       0.000000        0.407146  \n",
      "2030-12-31 21:00:00+00:00       0.000000        0.396810  \n",
      "2030-12-31 22:00:00+00:00       0.000000        0.406583  \n",
      "2030-12-31 23:00:00+00:00       0.000000        0.446446  \n",
      "\n",
      "[8760 rows x 8 columns]\n"
     ]
    },
    {
     "name": "stdout",
     "output_type": "stream",
     "text": [
      "(Pdb) views.node_output_by_type(results, node_type=es.typemap[t])\n",
      "(Pdb) views.node_output_by_type(results, node_type=es.typemap[t])\n",
      "(Pdb) t\n",
      "'reservoir'\n",
      "(Pdb) views.node_output_by_type(results, node_type=es.typemap['generator'])\n",
      "from                          KH-coal-st   KH-hydro-ror    KH-solar-pv  \\\n",
      "to                        KH-electricity KH-electricity KH-electricity   \n",
      "type                                flow           flow           flow   \n",
      "timeindex                                                                \n",
      "2030-01-01 00:00:00+00:00       5.268469       3.123848       0.000000   \n",
      "2030-01-01 01:00:00+00:00       4.781602       3.122354       0.000000   \n",
      "2030-01-01 02:00:00+00:00       4.361871       3.120854       0.000000   \n",
      "2030-01-01 03:00:00+00:00       4.075530       3.119346       0.000000   \n",
      "2030-01-01 04:00:00+00:00       3.713992       3.117831       0.000000   \n",
      "2030-01-01 05:00:00+00:00       3.106873       3.116309       0.000000   \n",
      "2030-01-01 06:00:00+00:00       3.110577       3.114780       0.000000   \n",
      "2030-01-01 07:00:00+00:00       3.249792       3.113244       0.021142   \n",
      "2030-01-01 08:00:00+00:00       3.565763       3.111702       0.221987   \n",
      "2030-01-01 09:00:00+00:00       3.901403       3.110153       0.517970   \n",
      "2030-01-01 10:00:00+00:00       4.357748       3.108598       0.750528   \n",
      "2030-01-01 11:00:00+00:00       4.570581       3.107036       0.813953   \n",
      "2030-01-01 12:00:00+00:00       4.630209       3.105468       0.681818   \n",
      "2030-01-01 13:00:00+00:00       4.835349       3.103894       0.428118   \n",
      "2030-01-01 14:00:00+00:00       5.170071       3.102313       0.121564   \n",
      "2030-01-01 15:00:00+00:00       5.679599       3.100727       0.000000   \n",
      "2030-01-01 16:00:00+00:00       6.613530       3.099135       0.000000   \n",
      "2030-01-01 17:00:00+00:00       6.835956       3.097537       0.000000   \n",
      "2030-01-01 18:00:00+00:00       6.711957       3.095933       0.000000   \n",
      "2030-01-01 19:00:00+00:00       6.378050       3.094323       0.000000   \n",
      "2030-01-01 20:00:00+00:00       6.262130       3.092709       0.000000   \n",
      "2030-01-01 21:00:00+00:00       6.391495       3.091088       0.000000   \n",
      "2030-01-01 22:00:00+00:00       5.896309       3.089462       0.000000   \n",
      "2030-01-01 23:00:00+00:00       5.283309       3.087832       0.000000   \n",
      "2030-01-02 00:00:00+00:00       4.817681       3.086196       0.000000   \n",
      "2030-01-02 01:00:00+00:00       4.576205       3.084555       0.000000   \n",
      "2030-01-02 02:00:00+00:00       4.426995       3.082908       0.000000   \n",
      "2030-01-02 03:00:00+00:00       4.387543       3.081257       0.000000   \n",
      "2030-01-02 04:00:00+00:00       4.212466       3.079599       0.000000   \n",
      "2030-01-02 05:00:00+00:00       3.842210       3.077936       0.000000   \n",
      "...                                  ...            ...            ...   \n",
      "2030-12-30 18:00:00+00:00       9.431417       1.583864       0.000000   \n",
      "2030-12-30 19:00:00+00:00       8.740423       1.583768       0.000000   \n",
      "2030-12-30 20:00:00+00:00       8.245050       1.583669       0.000000   \n",
      "2030-12-30 21:00:00+00:00       8.082029       1.583566       0.000000   \n",
      "2030-12-30 22:00:00+00:00       7.367787       1.583459       0.000000   \n",
      "2030-12-30 23:00:00+00:00       6.695807       1.583348       0.000000   \n",
      "2030-12-31 00:00:00+00:00       6.268381       1.583233       0.000000   \n",
      "2030-12-31 01:00:00+00:00       5.994697       1.583113       0.000000   \n",
      "2030-12-31 02:00:00+00:00       5.957601       1.582989       0.000000   \n",
      "2030-12-31 03:00:00+00:00       5.984617       1.582862       0.000000   \n",
      "2030-12-31 04:00:00+00:00       5.917455       1.582732       0.000000   \n",
      "2030-12-31 05:00:00+00:00       5.744789       1.582601       0.000000   \n",
      "2030-12-31 06:00:00+00:00       6.269455       1.582467       0.000000   \n",
      "2030-12-31 07:00:00+00:00       7.001275       1.582333       0.010571   \n",
      "2030-12-31 08:00:00+00:00       7.605782       1.582199       0.121564   \n",
      "2030-12-31 09:00:00+00:00       7.860448       1.582065       0.285412   \n",
      "2030-12-31 10:00:00+00:00       8.099214       1.581932       0.385835   \n",
      "2030-12-31 11:00:00+00:00       8.098251       1.581801       0.401691   \n",
      "2030-12-31 12:00:00+00:00       7.980813       1.581672       0.338266   \n",
      "2030-12-31 13:00:00+00:00       7.946344       1.581546       0.179704   \n",
      "2030-12-31 14:00:00+00:00       8.088748       1.581424       0.031712   \n",
      "2030-12-31 15:00:00+00:00       8.672444       1.581306       0.000000   \n",
      "2030-12-31 16:00:00+00:00       9.157323       1.581192       0.000000   \n",
      "2030-12-31 17:00:00+00:00       9.050847       1.581085       0.000000   \n",
      "2030-12-31 18:00:00+00:00       8.253716       1.580983       0.000000   \n",
      "2030-12-31 19:00:00+00:00       7.356667       1.580888       0.000000   \n",
      "2030-12-31 20:00:00+00:00       7.088729       1.580800       0.000000   \n",
      "2030-12-31 21:00:00+00:00       7.205577       1.580721       0.000000   \n",
      "2030-12-31 22:00:00+00:00       6.774064       1.580650       0.000000   \n",
      "2030-12-31 23:00:00+00:00       6.289144       1.580588       0.000000   \n",
      "\n",
      "from                      KH-wind-onshore  \n",
      "to                         KH-electricity  \n",
      "type                                 flow  \n",
      "timeindex                                  \n",
      "2030-01-01 00:00:00+00:00        1.138966  \n",
      "2030-01-01 01:00:00+00:00        1.220366  \n",
      "2030-01-01 02:00:00+00:00        1.283935  \n",
      "2030-01-01 03:00:00+00:00        1.360775  \n",
      "2030-01-01 04:00:00+00:00        1.402880  \n",
      "2030-01-01 05:00:00+00:00        1.419748  \n",
      "2030-01-01 06:00:00+00:00        1.421904  \n",
      "2030-01-01 07:00:00+00:00        1.390761  \n",
      "2030-01-01 08:00:00+00:00        1.356496  \n",
      "2030-01-01 09:00:00+00:00        1.289730  \n",
      "2030-01-01 10:00:00+00:00        1.221795  \n",
      "2030-01-01 11:00:00+00:00        1.181622  \n",
      "2030-01-01 12:00:00+00:00        1.127814  \n",
      "2030-01-01 13:00:00+00:00        1.074402  \n",
      "2030-01-01 14:00:00+00:00        1.028632  \n",
      "2030-01-01 15:00:00+00:00        0.969803  \n",
      "2030-01-01 16:00:00+00:00        0.888718  \n",
      "2030-01-01 17:00:00+00:00        0.826302  \n",
      "2030-01-01 18:00:00+00:00        0.782355  \n",
      "2030-01-01 19:00:00+00:00        0.745152  \n",
      "2030-01-01 20:00:00+00:00        0.725933  \n",
      "2030-01-01 21:00:00+00:00        0.720297  \n",
      "2030-01-01 22:00:00+00:00        0.702479  \n",
      "2030-01-01 23:00:00+00:00        0.693983  \n",
      "2030-01-02 00:00:00+00:00        0.699008  \n",
      "2030-01-02 01:00:00+00:00        0.690689  \n",
      "2030-01-02 02:00:00+00:00        0.681072  \n",
      "2030-01-02 03:00:00+00:00        0.659471  \n",
      "2030-01-02 04:00:00+00:00        0.627259  \n",
      "2030-01-02 05:00:00+00:00        0.598199  \n",
      "...                                   ...  \n",
      "2030-12-30 18:00:00+00:00        0.823690  \n",
      "2030-12-30 19:00:00+00:00        0.724581  \n",
      "2030-12-30 20:00:00+00:00        0.640242  \n",
      "2030-12-30 21:00:00+00:00        0.562450  \n",
      "2030-12-30 22:00:00+00:00        0.496086  \n",
      "2030-12-30 23:00:00+00:00        0.431607  \n",
      "2030-12-31 00:00:00+00:00        0.372157  \n",
      "2030-12-31 01:00:00+00:00        0.322332  \n",
      "2030-12-31 02:00:00+00:00        0.294372  \n",
      "2030-12-31 03:00:00+00:00        0.273671  \n",
      "2030-12-31 04:00:00+00:00        0.260107  \n",
      "2030-12-31 05:00:00+00:00        0.255929  \n",
      "2030-12-31 06:00:00+00:00        0.251184  \n",
      "2030-12-31 07:00:00+00:00        0.253749  \n",
      "2030-12-31 08:00:00+00:00        0.253090  \n",
      "2030-12-31 09:00:00+00:00        0.253634  \n",
      "2030-12-31 10:00:00+00:00        0.280491  \n",
      "2030-12-31 11:00:00+00:00        0.298112  \n",
      "2030-12-31 12:00:00+00:00        0.292435  \n",
      "2030-12-31 13:00:00+00:00        0.274583  \n",
      "2030-12-31 14:00:00+00:00        0.303394  \n",
      "2030-12-31 15:00:00+00:00        0.362485  \n",
      "2030-12-31 16:00:00+00:00        0.387605  \n",
      "2030-12-31 17:00:00+00:00        0.398276  \n",
      "2030-12-31 18:00:00+00:00        0.421191  \n",
      "2030-12-31 19:00:00+00:00        0.425829  \n",
      "2030-12-31 20:00:00+00:00        0.407146  \n",
      "2030-12-31 21:00:00+00:00        0.396810  \n",
      "2030-12-31 22:00:00+00:00        0.406583  \n",
      "2030-12-31 23:00:00+00:00        0.446446  \n",
      "\n",
      "[8760 rows x 4 columns]\n"
     ]
    }
   ],
   "source": [
    "\n",
    "#  solve the model using cbc solver\n",
    "m.solve(\"cbc\")\n",
    "\n",
    "# write results back to the model object\n",
    "m.results = m.results()\n",
    "\n",
    "# writing results with the standard oemof-tabular output formatt\n",
    "pp.write_results(m, results_path)\n",
    "\n",
    "print(\"Optimization done. Results are in {}.\".format(results_path))\n"
   ]
  },
  {
   "cell_type": "markdown",
   "metadata": {},
   "source": [
    "## Plotting the Results"
   ]
  },
  {
   "cell_type": "code",
   "execution_count": null,
   "metadata": {},
   "outputs": [],
   "source": [
    "import os\n",
    "from plotly import offline, plotly\n",
    "from oemof.tabular.tools.plots import hourly_plot\n",
    "offline.init_notebook_mode()\n",
    "\n",
    "name = \"investment\"\n",
    "\n",
    "# results path for output\n",
    "results_path = os.path.join(os.path.expanduser(\"~\"), \"oemof-results\", name, \"output\")\n",
    "\n",
    "offline.plot(\n",
    "    hourly_plot(\n",
    "        name,\n",
    "        \"KH-electricity\",\n",
    "        os.path.join(os.path.expanduser(\"~\"), \"oemof-results\"),\n",
    "        plot_filling_levels=False,\n",
    "    ),\n",
    "    filename=os.path.join(results_path, \"hourly-plot.html\"),\n",
    ")"
   ]
  },
  {
   "cell_type": "code",
   "execution_count": null,
   "metadata": {},
   "outputs": [],
   "source": []
  }
 ],
 "metadata": {
  "kernelspec": {
   "display_name": "Python 3",
   "language": "python",
   "name": "python3"
  },
  "language_info": {
   "codemirror_mode": {
    "name": "ipython",
    "version": 3
   },
   "file_extension": ".py",
   "mimetype": "text/x-python",
   "name": "python",
   "nbconvert_exporter": "python",
   "pygments_lexer": "ipython3",
   "version": "3.6.7"
  }
 },
 "nbformat": 4,
 "nbformat_minor": 2
}
