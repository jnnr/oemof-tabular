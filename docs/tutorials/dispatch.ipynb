{
 "cells": [
  {
   "cell_type": "markdown",
   "metadata": {},
   "source": [
    "# Minimal 1-Node Dispatch Example\n",
    "\n",
    "The example models a simple electricity system as a 1-node-model the following nodes (buses and components):\n",
    "\n",
    "![](dispatch.png?=20)\n"
   ]
  },
  {
   "cell_type": "markdown",
   "metadata": {},
   "source": [
    "## Python Imports\n",
    "\n",
    "Imports of necessary python packages"
   ]
  },
  {
   "cell_type": "code",
   "execution_count": 2,
   "metadata": {},
   "outputs": [],
   "source": [
    "import os\n",
    "import pkg_resources as pkg\n",
    "import pandas as pd \n",
    "\n",
    "from oemof.solph import EnergySystem, Model, Bus\n",
    "import oemof.tabular.tools.postprocessing as pp\n",
    "import oemof.tabular.facades as fc"
   ]
  },
  {
   "cell_type": "markdown",
   "metadata": {},
   "source": [
    "## Creating and Setting the Datapaths"
   ]
  },
  {
   "cell_type": "markdown",
   "metadata": {},
   "source": [
    "Setting the datapath for raw-data and results. Data handling looks more complex than it is. You can easily adapt this to a simple `pd.read_excel(filepath,...)` in the next block if your file is located somewhere else. Otherwise we will use data from the oemof tabular repository. \n",
    "\n",
    "In addition a results directory will be created in `home/user/oemof-results/dispatch/output`. "
   ]
  },
  {
   "cell_type": "code",
   "execution_count": 46,
   "metadata": {},
   "outputs": [
    {
     "data": {
      "text/plain": [
       "'/home/admin/projects/oemof-tabular/data/data.xls'"
      ]
     },
     "execution_count": 46,
     "metadata": {},
     "output_type": "execute_result"
    }
   ],
   "source": [
    "# datapath for input data from the oemof tabular pacakge\n",
    "datapath = os.path.join(\n",
    "    pkg.resource_filename(\"oemof.tabular\", \"\").replace('src/oemof/tabular', \"\"), \n",
    "    \"data/data.xls\")\n",
    "\n",
    "# results path for output\n",
    "results_path = os.path.join(\n",
    "    os.path.expanduser(\"~\"), \n",
    "    \"oemof-results\", \n",
    "    \"dispatch\", \n",
    "    \"output\"\n",
    ")\n",
    "\n",
    "if not os.path.exists(results_path):\n",
    "    os.makedirs(results_path)\n",
    "datapath"
   ]
  },
  {
   "cell_type": "markdown",
   "metadata": {},
   "source": [
    "Next we will read the required input data. The timeseries index will be used for the `EnergySystem` object below. \n",
    "All generator data etc. will also be loaded. "
   ]
  },
  {
   "cell_type": "code",
   "execution_count": 65,
   "metadata": {},
   "outputs": [],
   "source": [
    "timeseries = pd.read_excel(\n",
    "    datapath, sheet_name=\"timeseries\", index_col=[0], parse_dates=True\n",
    ")\n",
    "timeseries.index.freq = \"1H\"\n",
    "\n",
    "generators = pd.read_excel(\n",
    "    datapath, sheet_name=\"generators\", index_col=0\n",
    ")\n",
    "storages = pd.read_excel(\n",
    "    datapath, sheet_name=\"storages\", index_col=0\n",
    ")"
   ]
  },
  {
   "cell_type": "code",
   "execution_count": 74,
   "metadata": {},
   "outputs": [
    {
     "ename": "TypeError",
     "evalue": "set expected at most 1 arguments, got 2",
     "output_type": "error",
     "traceback": [
      "\u001b[0;31m---------------------------------------------------------------------------\u001b[0m",
      "\u001b[0;31mTypeError\u001b[0m                                 Traceback (most recent call last)",
      "\u001b[0;32m<ipython-input-74-e56083154d3a>\u001b[0m in \u001b[0;36m<module>\u001b[0;34m\u001b[0m\n\u001b[0;32m----> 1\u001b[0;31m \u001b[0mset\u001b[0m\u001b[0;34m(\u001b[0m\u001b[0mgenerators\u001b[0m\u001b[0;34m.\u001b[0m\u001b[0mbus\u001b[0m\u001b[0;34m.\u001b[0m\u001b[0mvalues\u001b[0m\u001b[0;34m,\u001b[0m \u001b[0mstorages\u001b[0m\u001b[0;34m.\u001b[0m\u001b[0mbus\u001b[0m\u001b[0;34m.\u001b[0m\u001b[0mvalues\u001b[0m\u001b[0;34m)\u001b[0m\u001b[0;34m\u001b[0m\u001b[0;34m\u001b[0m\u001b[0m\n\u001b[0m",
      "\u001b[0;31mTypeError\u001b[0m: set expected at most 1 arguments, got 2"
     ]
    }
   ],
   "source": [
    "\n"
   ]
  },
  {
   "cell_type": "markdown",
   "metadata": {},
   "source": [
    "## Creating the EnergySystem and its Nodes\n",
    "\n",
    "We are starting by creating a `EnergySystem` object which will hold all information (nodes, etc.) of hour energy system that we will add below. This is just the standard way of using the `oemof.solph` library for your modelling."
   ]
  },
  {
   "cell_type": "code",
   "execution_count": null,
   "metadata": {},
   "outputs": [],
   "source": [
    "es = EnergySystem(timeindex=timeseries.index)"
   ]
  },
  {
   "cell_type": "markdown",
   "metadata": {},
   "source": [
    "### Add Bus\n",
    "\n",
    "Before we add any components we will create all bus objects for our model and add it to the energy system object."
   ]
  },
  {
   "cell_type": "code",
   "execution_count": null,
   "metadata": {},
   "outputs": [],
   "source": [
    "myamar = Bus(label=\"MN\")\n",
    "es.add(myamar)"
   ]
  },
  {
   "cell_type": "markdown",
   "metadata": {},
   "source": [
    "#### Bus Constraints \n",
    "\n",
    "With the set of all Buses $B$ all inputs $x^{flow}_{i(b),b}$ to a bus $b$ must equal all its outputs $x^{flow}_{b,o(b)}$\n",
    "\n",
    "$$\\sum_i x^{flow}_{i(b), b}(t) - \\sum_o x^{flow}_{b, o(b)}(t) = 0 \\qquad \\forall t \\in T, \\forall b \\in B$$\n",
    "\n",
    "This equation will be build once the complete energy system is setup with its component. Every time a `Component` is created, the connected bus inputs/outputs will be updated. By this update every bus has all required information of its inputs and outputs available to construct the constraints. \n"
   ]
  },
  {
   "cell_type": "markdown",
   "metadata": {},
   "source": [
    "### Add Load\n"
   ]
  },
  {
   "cell_type": "code",
   "execution_count": null,
   "metadata": {},
   "outputs": [],
   "source": [
    "es.add(\n",
    "    fc.Load(label=\"load\", bus=myamar, amount=500e3, profile=timeseries[\"load\"]))\n"
   ]
  },
  {
   "cell_type": "markdown",
   "metadata": {},
   "source": [
    "#### Load Constraint \n",
    "\n",
    "For the set of all Load denoted with $l \\in L$ the load $x_l$ at timestep t equals the exogenously defined  profile value $c^{profile}_l$ multiplied by the amount of this load $c^{amount}_l$\n",
    "\n",
    "$$ x^{flow}_{l}(t) = c^{profile}_{l}(t) \\cdot c^{amount}_{l} \\qquad \\forall t \\in T, \\forall l \\in L$$"
   ]
  },
  {
   "cell_type": "markdown",
   "metadata": {},
   "source": [
    "### Add Generators"
   ]
  },
  {
   "cell_type": "code",
   "execution_count": null,
   "metadata": {},
   "outputs": [],
   "source": [
    "es.add(\n",
    "    fc.Generator(\n",
    "        label=\"ccgt\",\n",
    "        bus=myamar,\n",
    "        carrier=\"gas\",\n",
    "        tech=\"ccgt\",\n",
    "        capacity=100,\n",
    "        marginal_cost=25,\n",
    "    )\n",
    ")"
   ]
  },
  {
   "cell_type": "markdown",
   "metadata": {},
   "source": [
    "#### Dispatchable Generator Constraint\n",
    "\n",
    "A `Generator` component can be used to model all types of dispatchble units in a energy system. This can include diesel generators oder coal fired power plants but also hot water boilers for heat. Every generator **must** be connected to an `Bus` object. \n",
    "\n",
    "This basic mathematical model for the component with the set of all dispatchable generators being $d \\in D$ looks as follows:\n",
    "\n",
    "$$x^{flow}_{d}(t) \\leq c^{capacity}_{d} \\qquad \\forall t \\in T,  \\forall d \\in D$$\n",
    "\n",
    "Meaning, the production of the generator $x^{flow}$ must be less than its maximum capacity $c^{max}$ in every timestep. "
   ]
  },
  {
   "cell_type": "code",
   "execution_count": null,
   "metadata": {},
   "outputs": [],
   "source": [
    "es.add(\n",
    "    fc.Generator(\n",
    "        label=\"pv\",\n",
    "        carrier=\"solar\",\n",
    "        tech=\"pv\",\n",
    "        capacity=150,\n",
    "        bus=myamar,\n",
    "        output_parameters={\n",
    "                'fixed': True},\n",
    "        profile=timeseries[\"pv\"],\n",
    "    )\n",
    ")\n",
    "\n",
    "## same behaviour as above\n",
    "# es.add(\n",
    "#    fc.Volatile(\n",
    "#        label=\"wind\",\n",
    "#        carrier=\"wind\",\n",
    "#        tech=\"onshore\",\n",
    "#        capacity=150,\n",
    "#        bus=bus,\n",
    "#        profile=timeseries[\"onshore\"],\n",
    "#    )\n",
    "#)\n",
    "\n"
   ]
  },
  {
   "cell_type": "markdown",
   "metadata": {},
   "source": [
    "#### Volatile Generator Constraint \n",
    "\n",
    "Using the `Generator` component with `output_parameters={\"fixed\": True}` is very similar to the Dispatchable component. However, in this case the flow of the volatile components denoted with $v \\in V$  will be fixed to a specific value.\n",
    "\n",
    "$$ x^{flow}_{v}(t) = c^{profile}_{v}(t) \\cdot c^{capacity}_{v} \\qquad \\forall t \\in T, \\forall v \\in V$$\n",
    "\n",
    "Alternatively you can use the `Volatile` component which automatically enforced the fixed behaviour. "
   ]
  },
  {
   "cell_type": "markdown",
   "metadata": {},
   "source": [
    "### Add Storage"
   ]
  },
  {
   "cell_type": "code",
   "execution_count": null,
   "metadata": {},
   "outputs": [],
   "source": [
    "es.add(\n",
    "    fc.Storage(\n",
    "        label=\"storage\",\n",
    "        bus=myamar,\n",
    "        carrier=\"lithium\",\n",
    "        tech=\"battery\",\n",
    "        capacity=20,\n",
    "        marginal_cost=0.0001,\n",
    "        balanced=True,\n",
    "        initial_storage_capacity=0.5,\n",
    "        storage_capacity=100,\n",
    "    )\n",
    ")\n",
    "es.add(fc.Excess(label=\"excess\", bus=myamar))"
   ]
  },
  {
   "cell_type": "markdown",
   "metadata": {},
   "source": [
    "#### Storage Constraints \n",
    "\n",
    "The mathematical representation of the storage for all storages $s \\in S$ will include the flow into the storage, out of the storage and a storage level. The defaul efficiency for input/output is 1. Note that this is is included during charge and discharge. If you want to set the round trip efficiency you need to do for example: $\\eta = \\sqrt{\\eta^{roundtrip}}$\n",
    "\n",
    "Intertemporal energy balance of the storage:\n",
    "\n",
    "$$ x^{level}_{s}(t) = \\eta^{loss} x^{level}_{s}(t) + \\eta x^{flow}_{s, in} - \\eta x^{flow}_{s, out}(t) \\qquad \\forall t \\in T,  \\forall s \\in S$$ \n",
    "\n",
    "Bounds of the storage level variable $x^{level}_s(t)$:\n",
    "\n",
    "$$ x^{level}_s(t) \\leq c_s^{max,level} \\qquad \\forall t \\in T,  \\forall s \\in S$$\n",
    "\n",
    "\n",
    "$$ x^{level}_s(1) = x_s^{level}(t_{e}) = 0.5 \\cdot c_s^{max,level} \\qquad \\forall t \\in T,  \\forall s \\in S$$ \n",
    "\n",
    "Of course, in addition the inflow/outflow of the storage also needs to be within the limit of the minimum and maximum power. \n",
    "\n",
    "$$ -c_s^{capacity} \\leq x^{flow}_s(t) \\leq c_s^{capacity} \\qquad \\forall t \\in T, \\forall s \\in S$$ \n"
   ]
  },
  {
   "cell_type": "markdown",
   "metadata": {},
   "source": [
    "### Objective Function \n",
    "\n",
    "The objective function is created from all instantiated objects. It will use all operating costs (i.e. `marginal_cost` argument) and if set all investment costs (i.e. `capacity_cost` argument)\n",
    "\n",
    "$$ \\text{min:} \\sum_g \\sum_t \\overbrace{c^{marginal\\_cost}_g \\cdot x^{flow}_{g}(t)}^{\\text{operating cost}} \\\\ \n",
    "\\sum_g \\sum_t \\overbrace{c^{capacity\\_cost}_g \\cdot x^{capacity}_{g}(t)}^{\\text{investment cost}} $$"
   ]
  },
  {
   "cell_type": "markdown",
   "metadata": {},
   "source": [
    "## Creating the Mathematical Model"
   ]
  },
  {
   "cell_type": "code",
   "execution_count": null,
   "metadata": {},
   "outputs": [],
   "source": [
    "# create model based on energy system and its components\n",
    "m = Model(es)\n",
    "\n",
    "# inspect objective function\n",
    "# m.objective.pprint()"
   ]
  },
  {
   "cell_type": "markdown",
   "metadata": {},
   "source": [
    "## Solving the Model and Writing Results"
   ]
  },
  {
   "cell_type": "code",
   "execution_count": null,
   "metadata": {},
   "outputs": [],
   "source": [
    "\n",
    "#  solve the model using cbc solver\n",
    "m.solve(\"cbc\")\n",
    "\n",
    "# write results back to the model object\n",
    "m.results = m.results()\n",
    "\n",
    "# writing results with the standard oemof-tabular output formatt\n",
    "pp.write_results(m, results_path)\n",
    "\n",
    "print(\"Optimization done. Results are in {}.\".format(results_path))\n"
   ]
  },
  {
   "cell_type": "markdown",
   "metadata": {},
   "source": [
    "## Plotting the Results"
   ]
  },
  {
   "cell_type": "code",
   "execution_count": null,
   "metadata": {},
   "outputs": [],
   "source": [
    "from plotly import offline, plotly\n",
    "from oemof.tabular.tools.plots import hourly_plot\n",
    "offline.init_notebook_mode()\n",
    "\n",
    "name = \"dispatch\"\n",
    "\n",
    "# results path for output\n",
    "results_path = os.path.join(os.path.expanduser(\"~\"), \"oemof-results\", name, \"output\")\n",
    "\n",
    "offline.plot(\n",
    "    hourly_plot(\n",
    "        name,\n",
    "        \"MN\",\n",
    "        os.path.join(os.path.expanduser(\"~\"), \"oemof-results\"),\n",
    "        plot_filling_levels=False,\n",
    "    ),\n",
    "    filename=os.path.join(results_path, \"hourly-plot.html\"),\n",
    ")"
   ]
  },
  {
   "cell_type": "code",
   "execution_count": null,
   "metadata": {},
   "outputs": [],
   "source": []
  }
 ],
 "metadata": {
  "kernelspec": {
   "display_name": "Python 3",
   "language": "python",
   "name": "python3"
  },
  "language_info": {
   "codemirror_mode": {
    "name": "ipython",
    "version": 3
   },
   "file_extension": ".py",
   "mimetype": "text/x-python",
   "name": "python",
   "nbconvert_exporter": "python",
   "pygments_lexer": "ipython3",
   "version": "3.6.7"
  }
 },
 "nbformat": 4,
 "nbformat_minor": 2
}
